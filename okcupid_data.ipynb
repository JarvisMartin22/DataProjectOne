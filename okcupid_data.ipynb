{
 "cells": [
  {
   "cell_type": "code",
   "execution_count": null,
   "metadata": {},
   "outputs": [],
   "source": [
    "# Dependencies and Setup\n",
    "%matplotlib inline\n",
    "%config InlineBackend.figure_format='svg'\n",
    "from IPython.display import display,HTML\n",
    "import pandas as pd\n",
    "import seaborn as sns\n",
    "import numpy as np\n",
    "import matplotlib.pyplot as plt\n",
    "import math\n",
    "from prettypandas import PrettyPandas\n",
    "sns.set_style(\"ticks\")\n",
    "sns.set_context(context=\"notebook\",font_scale=1)"
   ]
  },
  {
   "cell_type": "code",
   "execution_count": null,
   "metadata": {},
   "outputs": [],
   "source": [
    "# Read OKCupid Data file\n",
    "df = pd.read_csv(\"profiles.csv\")\n",
    "print(\"The dataset contains {} records\".format(len(df)))\n",
    "\n",
    "# Show dataframe and print dataframe info\n",
    "males = df[df[\"sex\"]==\"m\"] # male users\n",
    "females = df[df[\"sex\"]==\"f\"] # female users\n",
    "print(\"{} males ({:.1%}), {} females ({:.1%})\".format(\n",
    "    len(males),len(males)/len(df),\n",
    "    len(females),len(females)/len(df)))\n",
    "\n",
    "df = df.drop(['essay0', 'essay1', 'essay2', \n",
    "         'essay3', 'essay4', 'essay4', \n",
    "         'essay5', 'essay6', 'essay7', \n",
    "         'essay8', 'essay9'], axis=1)\n",
    "df.head()"
   ]
  },
  {
   "cell_type": "code",
   "execution_count": null,
   "metadata": {},
   "outputs": [],
   "source": [
    "# Changed all -1 values in income to 0\n",
    "df = df.replace({-1: None})\n",
    "df.head()"
   ]
  },
  {
   "cell_type": "code",
   "execution_count": null,
   "metadata": {},
   "outputs": [],
   "source": [
    "# Create dataframe that gets rid of rows where income is not reported\n",
    "income = df[df.income.notna()]\n",
    "income.head()"
   ]
  },
  {
   "cell_type": "markdown",
   "metadata": {},
   "source": [
    "# Jobs Clean-Up"
   ]
  },
  {
   "cell_type": "code",
   "execution_count": null,
   "metadata": {},
   "outputs": [],
   "source": [
    "jobs_df = df\n",
    "jobs_df['job'].unique()"
   ]
  },
  {
   "cell_type": "code",
   "execution_count": null,
   "metadata": {},
   "outputs": [],
   "source": [
    "# Clean up job column\n",
    "jobs_df = jobs_df.replace({'nan': None, 'rather not say': None,'other': None, '' })\n",
    "jobs_df = jobs_df[jobs_df.job.notna()]\n",
    "jobs_df['job'].unique()"
   ]
  },
  {
   "cell_type": "code",
   "execution_count": null,
   "metadata": {},
   "outputs": [],
   "source": [
    "# Create a limited job dataframe to reduce job groups with less than 1000 respondents\n",
    "jobs_count = jobs_df\n",
    "jobs_count['New_ID'] = jobs_count.index\n",
    "jobs_count = jobs_count.groupby(['job']).aggregate({'New_ID': 'count'})\n",
    "jobs_lite = jobs_df.replace({'nan': None, \n",
    "                             'rather not say': None,\n",
    "                             'other': None, \n",
    "                             'clerical / administrative': None,\n",
    "                             'military': None,\n",
    "                             'political / government': None,\n",
    "                             'retired': None,\n",
    "                             'transportation':None, \n",
    "                             'unemployed': None,\n",
    "                            })\n",
    "jobs_lite = jobs_lite[jobs_lite.job.notna()]\n",
    "jobs_lite['job'].unique()"
   ]
  },
  {
   "cell_type": "markdown",
   "metadata": {},
   "source": [
    "# Religion & Job/Occupation: Cephra"
   ]
  },
  {
   "cell_type": "code",
   "execution_count": null,
   "metadata": {},
   "outputs": [],
   "source": [
    "len(income)"
   ]
  },
  {
   "cell_type": "code",
   "execution_count": null,
   "metadata": {},
   "outputs": [],
   "source": [
    "# Create database for religion analysis\n",
    "religion_df = df\n",
    "religion_df['religion'].unique()"
   ]
  },
  {
   "cell_type": "code",
   "execution_count": null,
   "metadata": {},
   "outputs": [],
   "source": [
    "# Clean up religion column\n",
    "rel_vals_to_replace = {'agnosticism and very serious about it': 'agnosticism', \n",
    "                   'agnosticism but not too serious about it': 'agnosticism',\n",
    "                   'agnosticism and somewhat serious about it': 'agnosticism',\n",
    "                   'agnosticism and laughing about it': 'agnosticism',\n",
    "                   'atheism and laughing about it': 'atheism',\n",
    "                   'atheism and somewhat serious about it': 'atheism',\n",
    "                   'atheism but not too serious about it': 'atheism',\n",
    "                   'atheism and very serious about it': 'atheism',\n",
    "                   'buddhism but not too serious about it': 'buddhism',\n",
    "                   'buddhism and somewhat serious about it': 'buddhism',\n",
    "                   'buddhism and very serious about it': 'buddhism',\n",
    "                   'buddhism and laughing about it': 'buddhism',\n",
    "                   'christianity and very serious about it': 'christianity',\n",
    "                   'christianity but not too serious about it': 'christianity',\n",
    "                   'christianity and somewhat serious about it': 'christianity',\n",
    "                   'christianity and laughing about it': 'christianity',\n",
    "                   'catholicism but not too serious about it': 'catholicism',\n",
    "                   'catholicism and somewhat serious about it': 'catholicism',\n",
    "                   'catholicism and very serious about it': 'catholicism',\n",
    "                   'catholicism and laughing about it': 'catholicism',\n",
    "                   'other and somewhat serious about it': 'other',\n",
    "                   'other and very serious about it': 'other',\n",
    "                   'other but not too serious about it': 'other',\n",
    "                   'other and laughing about it': 'other',\n",
    "                   'judaism and laughing about it': 'judaism',\n",
    "                   'judaism and very serious about it': 'judaism',\n",
    "                   'judaism and somewhat serious about it': 'judaism',\n",
    "                   'judaism but not too serious about it': 'judaism',\n",
    "                   'hinduism and somewhat serious about it': 'hinduism',\n",
    "                   'hinduism and very serious about it': 'hinduism',\n",
    "                   'hinduism but not too serious about it': 'hinduism',\n",
    "                   'hinduism and laughing about it': 'hinduism',\n",
    "                   'islam but not too serious about it': 'islam',\n",
    "                   'islam and laughing about it': 'islam',\n",
    "                   'islam and somewhat serious about it': 'islam',\n",
    "                   'islam and very serious about it': 'islam',\n",
    "                  }\n",
    "religion_df['religion'] = religion_df['religion'].map(rel_vals_to_replace)\n",
    "religion_df.religion.unique()"
   ]
  },
  {
   "cell_type": "code",
   "execution_count": null,
   "metadata": {},
   "outputs": [],
   "source": [
    "# Drop all rows that have none for religion\n",
    "religion_df = df.replace({'NaN': None})\n",
    "religion_df = df[df.religion.notna()]\n",
    "religion_df"
   ]
  },
  {
   "cell_type": "code",
   "execution_count": null,
   "metadata": {},
   "outputs": [],
   "source": [
    "# Create dataframe comparing religion to jobs\n",
    "rel_v_job = religion_df.groupby(['religion', 'job']).count().unstack(level=1)\n",
    "rel_v_job"
   ]
  },
  {
   "cell_type": "markdown",
   "metadata": {},
   "source": [
    "# Astrological Sign & Job/Occupation: Cephra"
   ]
  },
  {
   "cell_type": "code",
   "execution_count": null,
   "metadata": {},
   "outputs": [],
   "source": [
    "sign_df = df\n",
    "sign_df['sign'].unique()"
   ]
  },
  {
   "cell_type": "code",
   "execution_count": null,
   "metadata": {},
   "outputs": [],
   "source": [
    "# Clean up astrology ('sign') column\n",
    "sign_vals_to_replace = {'pisces but it doesn&rsquo;t matter':'pisces',\n",
    "                       'gemini but it doesn&rsquo;t matter': 'gemini',\n",
    "                       'cancer but it doesn&rsquo;t matter': 'cancer',\n",
    "                       'leo but it doesn&rsquo;t matter': 'leo',\n",
    "                       'aquarius but it doesn&rsquo;t matter': 'aquarius',\n",
    "                       'aries and it&rsquo;s fun to think about': 'aries',\n",
    "                       'libra but it doesn&rsquo;t matter': 'libra',\n",
    "                       'pisces and it&rsquo;s fun to think about': 'pisces',\n",
    "                       'taurus but it doesn&rsquo;t matter': 'taurus',\n",
    "                       'sagittarius but it doesn&rsquo;t matter': 'sagittarius',\n",
    "                       'scorpio and it matters a lot': 'scorpio',\n",
    "                       'gemini and it&rsquo;s fun to think about': 'gemini',\n",
    "                       'leo and it&rsquo;s fun to think about': 'leo',\n",
    "                       'cancer and it&rsquo;s fun to think about': 'cancer',\n",
    "                       'libra and it&rsquo;s fun to think about': 'libra',\n",
    "                       'aquarius and it&rsquo;s fun to think about': 'aquarius',\n",
    "                       'virgo but it doesn&rsquo;t matter': 'virgo',\n",
    "                       'scorpio and it&rsquo;s fun to think about': 'scorpio',\n",
    "                       'capricorn but it doesn&rsquo;t matter': 'capricorn',\n",
    "                       'capricorn and it&rsquo;s fun to think about': 'capricorn',\n",
    "                       'aries but it doesn&rsquo;t matter': 'aries',\n",
    "                       'scorpio but it doesn&rsquo;t matter': 'scorpio',\n",
    "                       'sagittarius and it&rsquo;s fun to think about': 'sagittarius',\n",
    "                       'libra and it matters a lot': 'libra',\n",
    "                       'taurus and it&rsquo;s fun to think about': 'taurus',\n",
    "                       'leo and it matters a lot': 'leo',\n",
    "                       'virgo and it&rsquo;s fun to think about': 'virgo',\n",
    "                       'cancer and it matters a lot': 'cancer',\n",
    "                       'pisces and it matters a lot': 'pisces',\n",
    "                       'aries and it matters a lot': 'aries',\n",
    "                       'capricorn and it matters a lot': 'capricorn',\n",
    "                       'aquarius and it matters a lot': 'aquarius',\n",
    "                       'sagittarius and it matters a lot': 'sagittarius',\n",
    "                       'gemini and it matters a lot': 'gemini',\n",
    "                       'taurus and it matters a lot': 'taurus',\n",
    "                       'virgo and it matters a lot': 'virgo'\n",
    "                  }\n",
    "sign_df['sign'] = sign_df['sign'].map(sign_vals_to_replace)\n",
    "sign_df.sign.unique()"
   ]
  },
  {
   "cell_type": "code",
   "execution_count": null,
   "metadata": {},
   "outputs": [],
   "source": [
    "# Create dataframe comparing astrology sign to jobs\n",
    "astro_v_job = sign_df.groupby(['sign', 'job']).count().unstack(level=1)\n",
    "astro_v_job"
   ]
  },
  {
   "cell_type": "markdown",
   "metadata": {},
   "source": [
    "# Offspring & Job/Occupation: Cephra"
   ]
  },
  {
   "cell_type": "code",
   "execution_count": null,
   "metadata": {},
   "outputs": [],
   "source": [
    "offs_df = df\n",
    "offs_df['offspring'].unique()"
   ]
  },
  {
   "cell_type": "code",
   "execution_count": null,
   "metadata": {},
   "outputs": [],
   "source": [
    "# Clean up offspring column\n",
    "offs_vals_to_replace = {'doesn&rsquo;t have kids, but might want them': 'Maybe',\n",
    "                        'doesn&rsquo;t want kids': 'No',\n",
    "                        'doesn&rsquo;t have kids, but wants them': \"Yes\",\n",
    "                        'doesn&rsquo;t have kids': 'Neutral', \n",
    "                        'wants kids': \"Yes\", \n",
    "                        'has a kid': \"1 Child\",\n",
    "                        'has kids': \"Multiple Children\",\n",
    "                        'doesn&rsquo;t have kids, and doesn&rsquo;t want any': 'No',\n",
    "                        'has kids, but doesn&rsquo;t want more': \"Multiple Children\",\n",
    "                        'has a kid, but doesn&rsquo;t want more': \"1 Child\",\n",
    "                        'has a kid, and wants more': '1 Child', \n",
    "                        'has kids, and might want more': 'Multiple Children',\n",
    "                        'might want kids': 'Maybe', \n",
    "                        'has a kid, and might want more': '1 Child',\n",
    "                        'has kids, and wants more': 'Multiple Children',\n",
    "                          }\n",
    "offs_df['offspring'] = offs_df['offspring'].map(offs_vals_to_replace)\n",
    "offs_df.offspring.unique()"
   ]
  },
  {
   "cell_type": "code",
   "execution_count": null,
   "metadata": {},
   "outputs": [],
   "source": [
    "# Drop all rows that have none for offspring\n",
    "offs_df = offs_df.replace({'NaN': None})\n",
    "offs_df = offs_df[offs_df.offspring.notna()]\n",
    "offs_df.head()"
   ]
  },
  {
   "cell_type": "code",
   "execution_count": null,
   "metadata": {},
   "outputs": [],
   "source": [
    "## Ryan's section\n"
   ]
  },
  {
   "cell_type": "code",
   "execution_count": null,
   "metadata": {},
   "outputs": [],
   "source": [
    "### sexual orientation vs. job\n",
    "import math\n",
    "\n",
    "# Define visualization function\n",
    "def compare_prevalence(series,g1,g2,g1name,g2name,g1color,g2color,ax):\n",
    "    \n",
    "    # for each categorical value represented in series, number of users in group g1 which have this value\n",
    "    g1n=series.loc[g1].value_counts()\n",
    "    # for each categorical value represented in series, number of users in group g2 which have this value\n",
    "    g2n=series.loc[g2].value_counts()\n",
    "    \n",
    "    # join the two series in a single dataframe, filling 0 where indices don't match\n",
    "    # (e.g. if a value represented in g1 did never appear in g2)\n",
    "    df=pd.concat({\"g1n\":g1n,\"g2n\":g2n},axis=1).fillna(0)\n",
    "    # df has one row for every distinct value of series in the union of g1 and g2\n",
    "    \n",
    "    # normalize the data\n",
    "    df[\"g1f\"]=df[\"g1n\"]/(df[\"g1n\"].sum()) # fraction of g1 users with each categorical value\n",
    "    df[\"g2f\"]=df[\"g2n\"]/(df[\"g2n\"].sum()) # fraction of g2 users with each categorical value\n",
    "    \n",
    "    assert(math.isclose(df[\"g1f\"].sum(),1)) \n",
    "    assert(math.isclose(df[\"g2f\"].sum(),1))\n",
    "    \n",
    "    # for each row of df, we now compute how frequent the value was in g1 compared to the frequency it had in g2.\n",
    "    df[\"frac12\"]=df[\"g1f\"]/(df[\"g1f\"]+df[\"g2f\"])\n",
    "    # we expect df[\"frac12\"] to be 0.5 for values that were equally frequent in g1 and g2 (note that this does not depend on the size of g1 and g2)\n",
    "    # we expect df[\"frac12\"] to be 0 for values that were only seen in g2 and never seen in g1\n",
    "    # we expect df[\"frac12\"] to be 1 for values that were only seen in g1 and never seen in g2\n",
    "    \n",
    "    df=df[(df[\"g1n\"]+df[\"g2n\"])>=50] # exclude values which are too rare\n",
    "    df=df.sort_values(\"frac12\")\n",
    "    \n",
    "    # Draw the left bars\n",
    "    ax.barh(bottom=range(len(df)),\n",
    "                width=df[\"frac12\"],\n",
    "                left=0,\n",
    "                height=1,\n",
    "                align=\"center\",\n",
    "                color=g1color,alpha=1)\n",
    "    # Draw the right bars\n",
    "    ax.barh(bottom=range(len(df)),\n",
    "                width=df[\"frac12\"]-1,\n",
    "                left=1,\n",
    "                height=1,\n",
    "                align=\"center\",\n",
    "                color=g2color,alpha=1)\n",
    "    \n",
    "    # Draw a faint vertical line for x=0.5\n",
    "    ax.axvline(x=0.5,color=\"k\",alpha=0.1,linewidth=5)\n",
    "    ax.set(xlim=[0,1],\n",
    "           ylim=[-1,len(df)-0.5],\n",
    "           yticks=range(len(df)),\n",
    "           yticklabels=df.index,\n",
    "           xlabel=\"fraction of users\",\n",
    "           ylabel=series.name)\n",
    "    \n",
    "    ax.set_title(\"Relative prevalence of {} ($n={}$) vs {} ($n={}$)\\nfor each value of {}\".format(\n",
    "                g1name,g1.sum(),g2name,g2.sum(),series.name),\n",
    "                loc=\"left\",fontdict={\"fontsize\":\"medium\"})\n",
    "    ax.text(0.02,len(df)-1,g1name,verticalalignment=\"center\",horizontalalignment=\"left\",size=\"medium\",color=\"w\")\n",
    "    ax.text(0.98,0,g2name,verticalalignment=\"center\",horizontalalignment=\"right\",size=\"medium\",color=\"w\")\n",
    "\n",
    "    def color_for_frac(f):\n",
    "        # Blend g1color and g2color according to f (convex linear combination):\n",
    "        # 0 returns g1color, 1 returns g2color)\n",
    "        ret=np.array(g1color)*f+np.array(g2color)*(1-f)\n",
    "        if(np.linalg.norm(ret)>1):          # If the resulting rgb color is too bright for text,\n",
    "            ret=(ret/np.linalg.norm(ret))*1 # rescale its brightness to dark (but keep hue)\n",
    "        return ret\n",
    "        \n",
    "    for i,tl in enumerate(plt.gca().get_yticklabels()):\n",
    "        tl.set_color(color_for_frac(df[\"frac12\"].iloc[i]))\n",
    "        \n",
    "    sns.despine(ax=ax,left=True)\n",
    "\n",
    "# Apply visualization function \n",
    "fig,ax = plt.subplots(figsize=(10,4))\n",
    "compare_prevalence(\n",
    "    series=jobs_df[\"job\"],                          # Which categorical attribute?\n",
    "    g1=df[\"orientation\"]==\"gay\",      g2=df[\"orientation\"]==\"straight\",        # Definition of the two groups\n",
    "    g1name=\"gay users\",   g2name=\"straight users\",   # Names of the two groups\n",
    "    g1color=[0.8,0.5,1.0], g2color=[0.3,0.5,0.5],   # Colors for the two groups\n",
    "    ax=ax)\n",
    "fig.tight_layout()"
   ]
  },
  {
   "cell_type": "markdown",
   "metadata": {},
   "source": [
    "# Substance Usage: Ryan"
   ]
  },
  {
   "cell_type": "code",
   "execution_count": null,
   "metadata": {},
   "outputs": [],
   "source": [
    "# Create a drugs dataframe \n",
    "drugs_df = df\n",
    "drugs_df['drugs'].unique()"
   ]
  },
  {
   "cell_type": "code",
   "execution_count": null,
   "metadata": {},
   "outputs": [],
   "source": [
    "# Clean up drugs column\n",
    "drugs_vals_to_replace = {'sometimes': 'Yes',\n",
    "                        'often': 'Yes',\n",
    "                        'never': 'No',\n",
    "                          }\n",
    "drugs_df['drugs'] = drugs_df['drugs'].map(drugs_vals_to_replace)"
   ]
  },
  {
   "cell_type": "code",
   "execution_count": null,
   "metadata": {},
   "outputs": [],
   "source": [
    "# Drop rows that have nan\n",
    "drugs_df = drugs_df.replace({'nan': None})\n",
    "drugs_df = drugs_df[drugs_df.drugs.notna()]"
   ]
  },
  {
   "cell_type": "code",
   "execution_count": null,
   "metadata": {},
   "outputs": [],
   "source": [
    "len(drugs_df.loc[drugs_df['drugs']==\"No\"])"
   ]
  },
  {
   "cell_type": "code",
   "execution_count": null,
   "metadata": {},
   "outputs": [],
   "source": [
    "# Define visualization function\n",
    "def compare_prevalence(series,g1,g2,g1name,g2name,g1color,g2color,ax):\n",
    "    \n",
    "    # for each categorical value represented in series, number of users in group g1 which have this value\n",
    "    g1n=series.loc[g1].value_counts()\n",
    "    # for each categorical value represented in series, number of users in group g2 which have this value\n",
    "    g2n=series.loc[g2].value_counts()\n",
    "    \n",
    "    # join the two series in a single dataframe, filling 0 where indices don't match\n",
    "    # (e.g. if a value represented in g1 did never appear in g2)\n",
    "    df=pd.concat({\"g1n\":g1n,\"g2n\":g2n},axis=1).fillna(0)\n",
    "    # df has one row for every distinct value of series in the union of g1 and g2\n",
    "    \n",
    "    # normalize the data\n",
    "    df[\"g1f\"]=df[\"g1n\"]/(df[\"g1n\"].sum()) # fraction of g1 users with each categorical value\n",
    "    df[\"g2f\"]=df[\"g2n\"]/(df[\"g2n\"].sum()) # fraction of g2 users with each categorical value\n",
    "    \n",
    "    assert(math.isclose(df[\"g1f\"].sum(),1)) \n",
    "    assert(math.isclose(df[\"g2f\"].sum(),1))\n",
    "    \n",
    "    # for each row of df, we now compute how frequent the value was in g1 compared to the frequency it had in g2.\n",
    "    df[\"frac12\"]=df[\"g1f\"]/(df[\"g1f\"]+df[\"g2f\"])\n",
    "    # we expect df[\"frac12\"] to be 0.5 for values that were equally frequent in g1 and g2 (note that this does not depend on the size of g1 and g2)\n",
    "    # we expect df[\"frac12\"] to be 0 for values that were only seen in g2 and never seen in g1\n",
    "    # we expect df[\"frac12\"] to be 1 for values that were only seen in g1 and never seen in g2\n",
    "    \n",
    "    df=df[(df[\"g1n\"]+df[\"g2n\"])>=50] # exclude values which are too rare\n",
    "    df=df.sort_values(\"frac12\")\n",
    "    \n",
    "    # Draw the left bars\n",
    "    ax.barh(bottom=range(len(df)),\n",
    "                width=df[\"frac12\"],\n",
    "                left=0,\n",
    "                height=1,\n",
    "                align=\"center\",\n",
    "                color=g1color,alpha=1)\n",
    "    # Draw the right bars\n",
    "    ax.barh(bottom=range(len(df)),\n",
    "                width=df[\"frac12\"]-1,\n",
    "                left=1,\n",
    "                height=1,\n",
    "                align=\"center\",\n",
    "                color=g2color,alpha=1)\n",
    "    \n",
    "    # Draw a faint vertical line for x=0.5\n",
    "    ax.axvline(x=0.5,color=\"k\",alpha=0.1,linewidth=5)\n",
    "    ax.set(xlim=[0,1],\n",
    "           ylim=[-1,len(df)-0.5],\n",
    "           yticks=range(len(df)),\n",
    "           yticklabels=df.index,\n",
    "           xlabel=\"fraction of users\",\n",
    "           ylabel=series.name)\n",
    "    \n",
    "    ax.set_title(\"Relative prevalence of {} ($n={}$) vs {} ($n={}$)\\nfor each value of {}\".format(\n",
    "                g1name,g1.sum(),g2name,g2.sum(),series.name),\n",
    "                loc=\"left\",fontdict={\"fontsize\":\"medium\"})\n",
    "    ax.text(0.02,len(df)-1,g1name,verticalalignment=\"center\",horizontalalignment=\"left\",size=\"medium\",color=\"w\")\n",
    "    ax.text(0.98,0,g2name,verticalalignment=\"center\",horizontalalignment=\"right\",size=\"medium\",color=\"w\")\n",
    "\n",
    "    def color_for_frac(f):\n",
    "        # Blend g1color and g2color according to f (convex linear combination):\n",
    "        # 0 returns g1color, 1 returns g2color)\n",
    "        ret=np.array(g1color)*f+np.array(g2color)*(1-f)\n",
    "        if(np.linalg.norm(ret)>1):          # If the resulting rgb color is too bright for text,\n",
    "            ret=(ret/np.linalg.norm(ret))*1 # rescale its brightness to dark (but keep hue)\n",
    "        return ret\n",
    "        \n",
    "    for i,tl in enumerate(plt.gca().get_yticklabels()):\n",
    "        tl.set_color(color_for_frac(df[\"frac12\"].iloc[i]))\n",
    "        \n",
    "    sns.despine(ax=ax,left=True)\n",
    "\n",
    "# Apply visualization function \n",
    "fig,ax = plt.subplots(figsize=(10,4))\n",
    "compare_prevalence(\n",
    "    series=jobs_df[\"job\"],                          # Which categorical attribute?\n",
    "    g1=df[\"drugs\"]==\"Yes\",      g2=df[\"drugs\"]==\"No\",        # Definition of the two groups\n",
    "    g1name=\"drug users\",   g2name=\"non-drug users\",   # Names of the two groups\n",
    "    g1color=[0.8,0.5,1.0], g2color=[0.3,0.5,0.5],   # Colors for the two groups\n",
    "    ax=ax)\n",
    "fig.tight_layout()"
   ]
  },
  {
   "cell_type": "code",
   "execution_count": null,
   "metadata": {},
   "outputs": [],
   "source": [
    "# Create a drinks dataframe \n",
    "drinks_df = df\n",
    "drinks_df['drinks'].unique()"
   ]
  },
  {
   "cell_type": "code",
   "execution_count": null,
   "metadata": {},
   "outputs": [],
   "source": [
    "# Clean up drinks column\n",
    "drinks_vals_to_replace = {'socially': 'Yes',\n",
    "                        'often': 'Yes',\n",
    "                        'rarely': 'Yes',\n",
    "                        'very often': 'Yes',\n",
    "                        'not at all': 'No',\n",
    "                          }\n",
    "drinks_df['drinks'] = drinks_df['drinks'].map(drinks_vals_to_replace)"
   ]
  },
  {
   "cell_type": "code",
   "execution_count": null,
   "metadata": {},
   "outputs": [],
   "source": [
    "# Drop rows that have nan\n",
    "drinks_df = drinks_df.replace({'nan': None})\n",
    "drinks_df = drinks_df[drinks_df.drinks.notna()]"
   ]
  },
  {
   "cell_type": "code",
   "execution_count": null,
   "metadata": {},
   "outputs": [],
   "source": [
    "len(drinks_df.loc[drinks_df['drinks']==\"No\"])"
   ]
  },
  {
   "cell_type": "code",
   "execution_count": null,
   "metadata": {},
   "outputs": [],
   "source": [
    "# Define visualization function\n",
    "def compare_prevalence(series,g1,g2,g1name,g2name,g1color,g2color,ax):\n",
    "    \n",
    "    # for each categorical value represented in series, number of users in group g1 which have this value\n",
    "    g1n=series.loc[g1].value_counts()\n",
    "    # for each categorical value represented in series, number of users in group g2 which have this value\n",
    "    g2n=series.loc[g2].value_counts()\n",
    "    \n",
    "    # join the two series in a single dataframe, filling 0 where indices don't match\n",
    "    # (e.g. if a value represented in g1 did never appear in g2)\n",
    "    df=pd.concat({\"g1n\":g1n,\"g2n\":g2n},axis=1).fillna(0)\n",
    "    # df has one row for every distinct value of series in the union of g1 and g2\n",
    "    \n",
    "    # normalize the data\n",
    "    df[\"g1f\"]=df[\"g1n\"]/(df[\"g1n\"].sum()) # fraction of g1 users with each categorical value\n",
    "    df[\"g2f\"]=df[\"g2n\"]/(df[\"g2n\"].sum()) # fraction of g2 users with each categorical value\n",
    "    \n",
    "    assert(math.isclose(df[\"g1f\"].sum(),1)) \n",
    "    assert(math.isclose(df[\"g2f\"].sum(),1))\n",
    "    \n",
    "    # for each row of df, we now compute how frequent the value was in g1 compared to the frequency it had in g2.\n",
    "    df[\"frac12\"]=df[\"g1f\"]/(df[\"g1f\"]+df[\"g2f\"])\n",
    "    # we expect df[\"frac12\"] to be 0.5 for values that were equally frequent in g1 and g2 (note that this does not depend on the size of g1 and g2)\n",
    "    # we expect df[\"frac12\"] to be 0 for values that were only seen in g2 and never seen in g1\n",
    "    # we expect df[\"frac12\"] to be 1 for values that were only seen in g1 and never seen in g2\n",
    "    \n",
    "    df=df[(df[\"g1n\"]+df[\"g2n\"])>=50] # exclude values which are too rare\n",
    "    df=df.sort_values(\"frac12\")\n",
    "    \n",
    "    # Draw the left bars\n",
    "    ax.barh(bottom=range(len(df)),\n",
    "                width=df[\"frac12\"],\n",
    "                left=0,\n",
    "                height=1,\n",
    "                align=\"center\",\n",
    "                color=g1color,alpha=1)\n",
    "    # Draw the right bars\n",
    "    ax.barh(bottom=range(len(df)),\n",
    "                width=df[\"frac12\"]-1,\n",
    "                left=1,\n",
    "                height=1,\n",
    "                align=\"center\",\n",
    "                color=g2color,alpha=1)\n",
    "    \n",
    "    # Draw a faint vertical line for x=0.5\n",
    "    ax.axvline(x=0.5,color=\"k\",alpha=0.1,linewidth=5)\n",
    "    ax.set(xlim=[0,1],\n",
    "           ylim=[-1,len(df)-0.5],\n",
    "           yticks=range(len(df)),\n",
    "           yticklabels=df.index,\n",
    "           xlabel=\"fraction of users\",\n",
    "           ylabel=series.name)\n",
    "    \n",
    "    ax.set_title(\"Relative prevalence of {} ($n={}$) vs {} ($n={}$)\\nfor each value of {}\".format(\n",
    "                g1name,g1.sum(),g2name,g2.sum(),series.name),\n",
    "                loc=\"left\",fontdict={\"fontsize\":\"medium\"})\n",
    "    ax.text(0.02,len(df)-1,g1name,verticalalignment=\"center\",horizontalalignment=\"left\",size=\"medium\",color=\"w\")\n",
    "    ax.text(0.98,0,g2name,verticalalignment=\"center\",horizontalalignment=\"right\",size=\"medium\",color=\"w\")\n",
    "\n",
    "    def color_for_frac(f):\n",
    "        # Blend g1color and g2color according to f (convex linear combination):\n",
    "        # 0 returns g1color, 1 returns g2color)\n",
    "        ret=np.array(g1color)*f+np.array(g2color)*(1-f)\n",
    "        if(np.linalg.norm(ret)>1):          # If the resulting rgb color is too bright for text,\n",
    "            ret=(ret/np.linalg.norm(ret))*1 # rescale its brightness to dark (but keep hue)\n",
    "        return ret\n",
    "        \n",
    "    for i,tl in enumerate(plt.gca().get_yticklabels()):\n",
    "        tl.set_color(color_for_frac(df[\"frac12\"].iloc[i]))\n",
    "        \n",
    "    sns.despine(ax=ax,left=True)\n",
    "\n",
    "# Apply visualization function \n",
    "fig,ax = plt.subplots(figsize=(10,4))\n",
    "compare_prevalence(\n",
    "    series=jobs_df[\"job\"],                          # Which categorical attribute?\n",
    "    g1=df[\"drinks\"]==\"Yes\",      g2=df[\"drinks\"]==\"No\",        # Definition of the two groups\n",
    "    g1name=\"drinkers\",   g2name=\"non-drinkers\",   # Names of the two groups\n",
    "    g1color=[0.8,0.5,1.0], g2color=[0.3,0.5,0.5],   # Colors for the two groups\n",
    "    ax=ax)\n",
    "fig.tight_layout()"
   ]
  },
  {
   "cell_type": "markdown",
   "metadata": {},
   "source": [
    "# New Assignments for Team\n",
    " - Jarvis to focus on lat/lng & plotting geolocation (Geography)\n",
    " - Ryan to focus on jobs vs. drugs, drinks, smoking, sexual orientation (Substance Use)\n",
    " - Tati to focus on jobs vs. age, income, education (Economics)\n",
    " - Cephra to focus on religion, astrological sign, offspring (Spiritual)"
   ]
  },
  {
   "cell_type": "markdown",
   "metadata": {},
   "source": [
    "#age\tbody_type\tdiet\tdrinks\tdrugs\teducation\tethnicity\theight\tincome\tjob\tlast_online\tlocation\toffspring\torientation\tpets\treligion\tsex\tsign\tsmokes\tspeaks\tstatus\n",
    "\n",
    "\n",
    "#age vs drinks vs drug\n",
    "#age vs religion\n",
    "#location vs sign\n",
    "#age vs smoke\n",
    "#height vs income\n",
    "#income vs drinks vs drug\n",
    "#income vs education\n",
    "#body_type vs location\n",
    "#ethnicity vs job or income\n",
    "    \n",
    "\n",
    "\n"
   ]
  }
 ],
 "metadata": {
  "kernelspec": {
   "display_name": "Python [default]",
   "language": "python",
   "name": "python3"
  },
  "language_info": {
   "codemirror_mode": {
    "name": "ipython",
    "version": 3
   },
   "file_extension": ".py",
   "mimetype": "text/x-python",
   "name": "python",
   "nbconvert_exporter": "python",
   "pygments_lexer": "ipython3",
   "version": "3.6.5"
  }
 },
 "nbformat": 4,
 "nbformat_minor": 2
}
